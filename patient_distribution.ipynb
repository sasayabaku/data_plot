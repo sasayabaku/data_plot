{
 "cells": [
  {
   "cell_type": "code",
   "execution_count": 1,
   "metadata": {
    "collapsed": true
   },
   "outputs": [],
   "source": [
    "from plotly.offline import iplot, init_notebook_mode, plot\n",
    "import plotly.graph_objs as go\n",
    "import pandas as pd\n",
    "import os"
   ]
  },
  {
   "cell_type": "code",
   "execution_count": 2,
   "metadata": {},
   "outputs": [],
   "source": [
    "list_dir = \"~/graph/csv/property.csv\"\n",
    "pat_dir = \"~/graph/csv/patient_list.csv\""
   ]
  },
  {
   "cell_type": "code",
   "execution_count": 3,
   "metadata": {},
   "outputs": [],
   "source": [
    "patient_list = pd.read_csv(pat_dir,\n",
    "                           header=None,\n",
    "                           index_col=None, names=['dir', 'pid', 'page', 'psex'],\n",
    "                           dtype={'pid': 'str'}\n",
    "                           )"
   ]
  },
  {
   "cell_type": "code",
   "execution_count": 4,
   "metadata": {},
   "outputs": [],
   "source": [
    "patient_property = pd.read_csv(list_dir,\n",
    "                               header=0,\n",
    "                               index_col=None,\n",
    "                               dtype={'0002': 'object'})"
   ]
  },
  {
   "cell_type": "code",
   "execution_count": 5,
   "metadata": {},
   "outputs": [],
   "source": [
    "man = 200\n",
    "woman = 150\n",
    "values = [man, woman]"
   ]
  },
  {
   "cell_type": "code",
   "execution_count": 6,
   "metadata": {
    "collapsed": false
   },
   "outputs": [],
   "source": [
    "trace = go.Pie(\n",
    "    labels=[\"<b>Man</b>\", \"<b>Woman</b>\"],\n",
    "    values=values,\n",
    "    marker=dict(colors=['3b9ab1', \"ff4560\"]),\n",
    "    textinfo=\"label+value+percent\"\n",
    ")\n",
    "data = [trace]"
   ]
  },
  {
   "cell_type": "code",
   "execution_count": 7,
   "metadata": {},
   "outputs": [],
   "source": [
    "layout = go.Layout(\n",
    "    autosize=True,\n",
    "    font=dict(size=24, color=\"#ffffff\")\n",
    ")"
   ]
  },
  {
   "cell_type": "code",
   "execution_count": 8,
   "metadata": {},
   "outputs": [],
   "source": [
    "fig = go.Figure(data=data, layout=layout)"
   ]
  },
  {
   "cell_type": "code",
   "execution_count": 9,
   "metadata": {},
   "outputs": [
    {
     "data": {
      "text/plain": [
       "'file:///Users/sasayabaku/PycharmProjects/data_plot/svg/gender_distribution.html'"
      ]
     },
     "execution_count": 9,
     "metadata": {},
     "output_type": "execute_result"
    }
   ],
   "source": [
    "filename = \"gender_distribution.html\"\n",
    "plot(fig, filename=os.path.join(\"html\", filename))\n",
    "plot(fig, filename=os.path.join(\"svg\", filename), image_height=750, image_width=1200, image=\"svg\", auto_open=False)"
   ]
  },
  {
   "cell_type": "code",
   "execution_count": null,
   "metadata": {},
   "outputs": [],
   "source": []
  }
 ],
 "metadata": {
  "kernelspec": {
   "display_name": "Python 2",
   "language": "python",
   "name": "python2"
  },
  "language_info": {
   "codemirror_mode": {
    "name": "ipython",
    "version": 2
   },
   "file_extension": ".py",
   "mimetype": "text/x-python",
   "name": "python",
   "nbconvert_exporter": "python",
   "pygments_lexer": "ipython2",
   "version": "2.7.6"
  }
 },
 "nbformat": 4,
 "nbformat_minor": 0
}
