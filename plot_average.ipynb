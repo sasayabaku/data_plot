{
 "cells": [
  {
   "cell_type": "code",
   "execution_count": 2,
   "metadata": {
    "collapsed": true
   },
   "outputs": [],
   "source": [
    "source_dir = '/Users/sasayabaku/googledrive/research/other_result/result'\n",
    "source_dir2 = '/Users/sasayabaku/googledrive/research/20regression/result'\n",
    "source_dir3 = '/Users/sasayabaku/googledrive/research/30regression/result'"
   ]
  },
  {
   "cell_type": "code",
   "execution_count": 3,
   "metadata": {},
   "outputs": [],
   "source": [
    "import os\n",
    "import pandas as pd\n",
    "import numpy as np\n",
    "import pickle\n",
    "from plotly.offline import iplot, init_notebook_mode, plot\n",
    "import plotly.graph_objs as go"
   ]
  },
  {
   "cell_type": "code",
   "execution_count": 5,
   "metadata": {},
   "outputs": [],
   "source": [
    "f_list = os.listdir(source_dir)\n",
    "f_list2 = os.listdir(source_dir2)\n",
    "f_list3 = os.listdir(source_dir3)"
   ]
  },
  {
   "cell_type": "code",
   "execution_count": 6,
   "metadata": {},
   "outputs": [],
   "source": [
    "acc1 = pd.DataFrame(np.zeros((30, 1)))\n",
    "val_acc1 = pd.DataFrame(np.zeros((30, 1)))\n",
    "acc_list1 = pd.DataFrame(np.empty((0, 0)))\n",
    "val_acc_list1 = pd.DataFrame(np.empty((0, 0)))\n",
    "\n",
    "acc2 = pd.DataFrame(np.zeros((30, 1)))\n",
    "val_acc2 = pd.DataFrame(np.zeros((30, 1)))\n",
    "acc_list2 = pd.DataFrame(np.empty((0, 0)))\n",
    "val_acc_list2 = pd.DataFrame(np.empty((0, 0)))\n",
    "\n",
    "acc3= pd.DataFrame(np.zeros((30, 1)))\n",
    "val_acc3 = pd.DataFrame(np.zeros((30, 1)))\n",
    "acc_list3 = pd.DataFrame(np.empty((0, 0)))\n",
    "val_acc_list3 = pd.DataFrame(np.empty((0, 0)))"
   ]
  },
  {
   "cell_type": "code",
   "execution_count": 7,
   "metadata": {},
   "outputs": [],
   "source": [
    "for i in f_list:\n",
    "    with open(os.path.join(source_dir, i, 'history.log'), mode='rb') as f:\n",
    "        data = pickle.load(f)\n",
    "        local_acc = pd.DataFrame(data['mean_squared_error'])\n",
    "        local_val_acc = pd.DataFrame(data['val_mean_squared_error'])\n",
    "        acc1 += local_acc\n",
    "        val_acc1 += local_val_acc\n",
    "        acc_list1 = pd.concat([acc_list1, local_acc], axis=1)\n",
    "        val_acc_list1 = pd.concat([val_acc_list1, local_val_acc], axis=1)"
   ]
  },
  {
   "cell_type": "code",
   "execution_count": 8,
   "metadata": {},
   "outputs": [
    {
     "ename": "KeyError",
     "evalue": "'acc'",
     "traceback": [
      "\u001b[0;31m---------------------------------------------------------------------------\u001b[0m",
      "\u001b[0;31mKeyError\u001b[0m                                  Traceback (most recent call last)",
      "\u001b[0;32m<ipython-input-8-8db3ed0160b2>\u001b[0m in \u001b[0;36m<module>\u001b[0;34m()\u001b[0m\n\u001b[1;32m      2\u001b[0m     \u001b[0;32mwith\u001b[0m \u001b[0mopen\u001b[0m\u001b[0;34m(\u001b[0m\u001b[0mos\u001b[0m\u001b[0;34m.\u001b[0m\u001b[0mpath\u001b[0m\u001b[0;34m.\u001b[0m\u001b[0mjoin\u001b[0m\u001b[0;34m(\u001b[0m\u001b[0msource_dir2\u001b[0m\u001b[0;34m,\u001b[0m \u001b[0mi\u001b[0m\u001b[0;34m,\u001b[0m \u001b[0;34m'history.log'\u001b[0m\u001b[0;34m)\u001b[0m\u001b[0;34m,\u001b[0m \u001b[0mmode\u001b[0m\u001b[0;34m=\u001b[0m\u001b[0;34m'rb'\u001b[0m\u001b[0;34m)\u001b[0m \u001b[0;32mas\u001b[0m \u001b[0mf\u001b[0m\u001b[0;34m:\u001b[0m\u001b[0;34m\u001b[0m\u001b[0m\n\u001b[1;32m      3\u001b[0m         \u001b[0mdata\u001b[0m \u001b[0;34m=\u001b[0m \u001b[0mpickle\u001b[0m\u001b[0;34m.\u001b[0m\u001b[0mload\u001b[0m\u001b[0;34m(\u001b[0m\u001b[0mf\u001b[0m\u001b[0;34m)\u001b[0m\u001b[0;34m\u001b[0m\u001b[0m\n\u001b[0;32m----> 4\u001b[0;31m         \u001b[0mlocal_acc\u001b[0m \u001b[0;34m=\u001b[0m \u001b[0mpd\u001b[0m\u001b[0;34m.\u001b[0m\u001b[0mDataFrame\u001b[0m\u001b[0;34m(\u001b[0m\u001b[0mdata\u001b[0m\u001b[0;34m[\u001b[0m\u001b[0;34m'acc'\u001b[0m\u001b[0;34m]\u001b[0m\u001b[0;34m)\u001b[0m\u001b[0;34m\u001b[0m\u001b[0m\n\u001b[0m\u001b[1;32m      5\u001b[0m         \u001b[0mlocal_val_acc\u001b[0m \u001b[0;34m=\u001b[0m \u001b[0mpd\u001b[0m\u001b[0;34m.\u001b[0m\u001b[0mDataFrame\u001b[0m\u001b[0;34m(\u001b[0m\u001b[0mdata\u001b[0m\u001b[0;34m[\u001b[0m\u001b[0;34m'val_acc'\u001b[0m\u001b[0;34m]\u001b[0m\u001b[0;34m)\u001b[0m\u001b[0;34m\u001b[0m\u001b[0m\n\u001b[1;32m      6\u001b[0m         \u001b[0macc2\u001b[0m \u001b[0;34m+=\u001b[0m \u001b[0mlocal_acc\u001b[0m\u001b[0;34m\u001b[0m\u001b[0m\n",
      "\u001b[0;31mKeyError\u001b[0m: 'acc'"
     ],
     "output_type": "error"
    }
   ],
   "source": [
    "for i in f_list2:\n",
    "    with open(os.path.join(source_dir2, i, 'history.log'), mode='rb') as f:\n",
    "        data = pickle.load(f)\n",
    "        local_acc = pd.DataFrame(data['acc'])\n",
    "        local_val_acc = pd.DataFrame(data['val_acc'])\n",
    "        acc2 += local_acc\n",
    "        val_acc2 += local_val_acc\n",
    "        acc_list2 = pd.concat([acc_list2, local_acc], axis=1)\n",
    "        val_acc_list2 = pd.concat([val_acc_list2, local_val_acc], axis=1)"
   ]
  },
  {
   "cell_type": "code",
   "execution_count": 7,
   "metadata": {},
   "outputs": [],
   "source": [
    "for i in f_list3:\n",
    "    with open(os.path.join(source_dir3, i, 'history.log'), mode='rb') as f:\n",
    "        data = pickle.load(f)\n",
    "        local_acc = pd.DataFrame(data['acc'])\n",
    "        local_val_acc = pd.DataFrame(data['val_acc'])\n",
    "        acc3 += local_acc\n",
    "        val_acc3 += local_val_acc\n",
    "        acc_list3 = pd.concat([acc_list3, local_acc], axis=1)\n",
    "        val_acc_list3 = pd.concat([val_acc_list3, local_val_acc], axis=1)"
   ]
  },
  {
   "cell_type": "code",
   "execution_count": 10,
   "metadata": {},
   "outputs": [],
   "source": [
    "y11 = acc_list1.mean(axis=1).values\n",
    "x11 = np.array(list(range(len(acc_list1)))) + 1\n",
    "y12 = val_acc_list1.mean(axis=1).values\n",
    "x12 = np.array(list(range(len(val_acc_list1)))) + 1\n",
    "\n",
    "y21 = acc_list2.mean(axis=1).values\n",
    "x21 = np.array(list(range(len(acc_list2)))) + 1\n",
    "y22 = val_acc_list2.mean(axis=1).values\n",
    "x22 = np.array(list(range(len(val_acc_list2)))) + 1\n",
    "\n",
    "y31 = acc_list3.mean(axis=1).values\n",
    "x31 = np.array(list(range(len(acc_list3)))) + 1\n",
    "y32 = val_acc_list3.mean(axis=1).values\n",
    "x32 = np.array(list(range(len(val_acc_list3)))) + 1\n"
   ]
  },
  {
   "cell_type": "code",
   "execution_count": 17,
   "metadata": {},
   "outputs": [],
   "source": [
    "plot_data_acc = []\n",
    "plot_data_val = []"
   ]
  },
  {
   "cell_type": "code",
   "execution_count": 19,
   "metadata": {},
   "outputs": [],
   "source": [
    "trace = go.Scatter(\n",
    "    x=x11,\n",
    "    y=y11,\n",
    "    name='Model 1',\n",
    "    mode='lines+markers',\n",
    "    line=dict(\n",
    "        color=(\"#ff4571\"),\n",
    "    ),\n",
    "    marker=dict(\n",
    "        size=12,\n",
    "        symbol=0\n",
    "    )\n",
    ")\n",
    "\n",
    "plot_data_acc.append(trace)"
   ]
  },
  {
   "cell_type": "code",
   "execution_count": 11,
   "metadata": {},
   "outputs": [],
   "source": [
    "trace = go.Scatter(\n",
    "    x=x21,\n",
    "    y=y21,\n",
    "    name='Model 2',\n",
    "    mode='lines+markers',\n",
    "    line=dict(\n",
    "        color=(\"#003195\"),\n",
    "    ),\n",
    "    marker=dict(\n",
    "        size=12,\n",
    "        symbol=202\n",
    "    )\n",
    ")\n",
    "\n",
    "plot_data_acc.append(trace)"
   ]
  },
  {
   "cell_type": "code",
   "execution_count": 12,
   "metadata": {},
   "outputs": [],
   "source": [
    "trace = go.Scatter(\n",
    "    x=x31,\n",
    "    y=y31,\n",
    "    name='Model 3',\n",
    "    mode='lines+markers',\n",
    "    line=dict(\n",
    "        color=(\"#5aad63\"),\n",
    "    ),\n",
    "    marker=dict(\n",
    "        size=12,\n",
    "        symbol=5\n",
    "    )\n",
    ")\n",
    "\n",
    "plot_data_acc.append(trace)"
   ]
  },
  {
   "cell_type": "code",
   "execution_count": 14,
   "metadata": {},
   "outputs": [],
   "source": [
    "layout = go.Layout(font=dict(size=24),\n",
    "                   xaxis=dict(title=\"Epochs\",\n",
    "                              titlefont=dict(size=24)\n",
    "                              ),\n",
    "                   yaxis=dict(title=\"Accuracy\",\n",
    "                              titlefont=dict(size=24)\n",
    "                              )\n",
    "                   )\n",
    "fig = go.Figure(data=plot_data_acc, layout=layout)"
   ]
  },
  {
   "cell_type": "code",
   "execution_count": 20,
   "metadata": {},
   "outputs": [
    {
     "data": {
      "text/plain": [
       "'file:///Users/sasayabaku/PycharmProjects/data_plot/html/plot_other_model.html'"
      ]
     },
     "execution_count": 20,
     "metadata": {},
     "output_type": "execute_result"
    }
   ],
   "source": [
    "plot(fig, filename='./html/plot_other_model.html', image_height=750, image_width=1200, image=\"svg\", auto_open=False)"
   ]
  },
  {
   "cell_type": "code",
   "execution_count": 14,
   "metadata": {},
   "outputs": [],
   "source": [
    "trace = go.Scatter(\n",
    "    x=x12,\n",
    "    y=y12,\n",
    "    name='Model 1',\n",
    "    mode='lines+markers',\n",
    "    line=dict(\n",
    "        color=(\"#ff4571\"),\n",
    "    ),\n",
    "    marker=dict(\n",
    "        size=12,\n",
    "        symbol=0\n",
    "    )\n",
    ")\n",
    "\n",
    "plot_data_val.append(trace)"
   ]
  },
  {
   "cell_type": "code",
   "execution_count": 15,
   "metadata": {},
   "outputs": [],
   "source": [
    "trace = go.Scatter(\n",
    "    x=x22,\n",
    "    y=y22,\n",
    "    name='Model 2',\n",
    "    mode='lines+markers',\n",
    "    line=dict(\n",
    "        color=(\"#003195\"),\n",
    "    ),\n",
    "    marker=dict(\n",
    "        size=12,\n",
    "        symbol=202\n",
    "    )\n",
    ")\n",
    "\n",
    "plot_data_val.append(trace)"
   ]
  },
  {
   "cell_type": "code",
   "execution_count": 16,
   "metadata": {},
   "outputs": [],
   "source": [
    "trace = go.Scatter(\n",
    "    x=x32,\n",
    "    y=y32,\n",
    "    name='Model 3',\n",
    "    mode='lines+markers',\n",
    "    line=dict(\n",
    "        color=(\"#5aad63\"),\n",
    "    ),\n",
    "    marker=dict(\n",
    "        size=12,\n",
    "        symbol=5\n",
    "    )\n",
    ")\n",
    "\n",
    "plot_data_val.append(trace)"
   ]
  },
  {
   "cell_type": "code",
   "execution_count": 17,
   "metadata": {},
   "outputs": [],
   "source": [
    "layout = go.Layout(font=dict(size=24),\n",
    "                   xaxis=dict(title=\"Epochs\",\n",
    "                              titlefont=dict(size=24)\n",
    "                              ),\n",
    "                   yaxis=dict(title=\"Accuracy\",\n",
    "                              titlefont=dict(size=24),\n",
    "                              range=[0.75, 0.95]\n",
    "                              )\n",
    "                   )\n",
    "fig_val = go.Figure(data=plot_data_val, layout=layout)"
   ]
  },
  {
   "cell_type": "code",
   "execution_count": 18,
   "metadata": {},
   "outputs": [
    {
     "data": {
      "text/plain": [
       "'file:///Users/yoshilab/PycharmProjects/parts/gray_val_accuracy.html'"
      ]
     },
     "execution_count": 18,
     "metadata": {},
     "output_type": "execute_result"
    }
   ],
   "source": [
    "plot(fig_val, filename='./gray_val_accuracy.html', image_height=750, image_width=1200, image=\"svg\", auto_open=False)"
   ]
  },
  {
   "cell_type": "code",
   "execution_count": 7,
   "metadata": {},
   "outputs": [
    {
     "data": {
      "text/plain": [
       "{'loss': [0.01274845376610756,\n  0.01192015401708583,\n  0.010828612527499596,\n  0.008613225538283587,\n  0.006462943468553324,\n  0.0037233942033102116,\n  0.0020980381329233446,\n  0.0024388612364418805,\n  0.0042410358631362515,\n  0.005732434956977765,\n  0.002017180813709274,\n  0.001611507061170414,\n  0.0017123238649219275,\n  0.0010586566398463522,\n  0.001183462520809068,\n  0.0006203366598735253,\n  0.0003421823348617181,\n  0.0003275310912916514,\n  0.0003619908784457948,\n  0.00030476152399690665,\n  0.00045779239129236277,\n  0.0005637912581732962,\n  0.00055489593311601,\n  0.000339116936326415,\n  0.0002592061488636925,\n  0.0002126601654405628,\n  0.00022548185249130862,\n  0.0002881567221872198,\n  0.0002304118376438661,\n  0.00019596568805961093],\n 'mean_squared_error': [0.01274845376610756,\n  0.01192015401708583,\n  0.010828612527499596,\n  0.008613225538283587,\n  0.006462943468553324,\n  0.0037233942033102116,\n  0.0020980381329233446,\n  0.0024388612364418805,\n  0.0042410358631362515,\n  0.005732434956977765,\n  0.002017180813709274,\n  0.001611507061170414,\n  0.0017123238649219275,\n  0.0010586566398463522,\n  0.001183462520809068,\n  0.0006203366598735253,\n  0.0003421823348617181,\n  0.0003275310912916514,\n  0.0003619908784457948,\n  0.00030476152399690665,\n  0.00045779239129236277,\n  0.0005637912581732962,\n  0.00055489593311601,\n  0.000339116936326415,\n  0.0002592061488636925,\n  0.0002126601654405628,\n  0.00022548185249130862,\n  0.0002881567221872198,\n  0.0002304118376438661,\n  0.00019596568805961093],\n 'val_loss': [0.01232018694281578,\n  0.010013203136622906,\n  0.012871337123215199,\n  0.008394306059926748,\n  0.012840272393077612,\n  0.008417970035225153,\n  0.011399265844374895,\n  0.014009065693244338,\n  0.02276606298983097,\n  0.013019942212849855,\n  0.012118312995880842,\n  0.012615673243999481,\n  0.010895195417106152,\n  0.012982451356947422,\n  0.011085682548582554,\n  0.014752455987036228,\n  0.01128939725458622,\n  0.015334104187786579,\n  0.010314026847481728,\n  0.014797225594520569,\n  0.009462878573685884,\n  0.014815854839980602,\n  0.0102724046446383,\n  0.013356974348425865,\n  0.008849082747474313,\n  0.011741579044610262,\n  0.00868530385196209,\n  0.010709105059504509,\n  0.008806486148387194,\n  0.010527734644711018],\n 'val_mean_squared_error': [0.01232018694281578,\n  0.010013203136622906,\n  0.012871337123215199,\n  0.008394306059926748,\n  0.012840272393077612,\n  0.008417970035225153,\n  0.011399265844374895,\n  0.014009065693244338,\n  0.02276606298983097,\n  0.013019942212849855,\n  0.012118312995880842,\n  0.012615673243999481,\n  0.010895195417106152,\n  0.012982451356947422,\n  0.011085682548582554,\n  0.014752455987036228,\n  0.01128939725458622,\n  0.015334104187786579,\n  0.010314026847481728,\n  0.014797225594520569,\n  0.009462878573685884,\n  0.014815854839980602,\n  0.0102724046446383,\n  0.013356974348425865,\n  0.008849082747474313,\n  0.011741579044610262,\n  0.00868530385196209,\n  0.010709105059504509,\n  0.008806486148387194,\n  0.010527734644711018]}"
      ]
     },
     "execution_count": 7,
     "metadata": {},
     "output_type": "execute_result"
    }
   ],
   "source": [
    "data"
   ]
  },
  {
   "cell_type": "code",
   "execution_count": null,
   "metadata": {},
   "outputs": [],
   "source": []
  }
 ],
 "metadata": {
  "kernelspec": {
   "display_name": "Python 2",
   "language": "python",
   "name": "python2"
  },
  "language_info": {
   "codemirror_mode": {
    "name": "ipython",
    "version": 2
   },
   "file_extension": ".py",
   "mimetype": "text/x-python",
   "name": "python",
   "nbconvert_exporter": "python",
   "pygments_lexer": "ipython2",
   "version": "2.7.6"
  }
 },
 "nbformat": 4,
 "nbformat_minor": 0
}
