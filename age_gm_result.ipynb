{
 "cells": [
  {
   "cell_type": "code",
   "execution_count": 1,
   "metadata": {
    "collapsed": true
   },
   "outputs": [],
   "source": [
    "import os\n",
    "import pandas as pd\n",
    "import numpy as np\n",
    "import pickle\n",
    "from plotly.offline import iplot, init_notebook_mode, plot\n",
    "import plotly.graph_objs as go"
   ]
  },
  {
   "cell_type": "code",
   "execution_count": 2,
   "metadata": {},
   "outputs": [],
   "source": [
    "root_dir = \"/Users/yoshilab/googledrive/research\""
   ]
  },
  {
   "cell_type": "code",
   "execution_count": 13,
   "metadata": {},
   "outputs": [],
   "source": [
    "source_dir1 = os.path.join(root_dir, \"gray_matter\", \"10classification\", \"result\")\n",
    "source_dir2 = os.path.join(root_dir, \"gray_matter\", \"20classification\")\n",
    "source_dir3 = os.path.join(root_dir, \"gray_matter\", \"30classification\")"
   ]
  },
  {
   "cell_type": "code",
   "execution_count": 14,
   "metadata": {},
   "outputs": [],
   "source": [
    "f_list1 = os.listdir(source_dir1)\n",
    "f_list2 = os.listdir(source_dir2)\n",
    "f_list3 = os.listdir(source_dir3)"
   ]
  },
  {
   "cell_type": "code",
   "execution_count": 5,
   "metadata": {},
   "outputs": [],
   "source": [
    "acc1 = pd.DataFrame(np.zeros((30, 1)))\n",
    "val_acc1 = pd.DataFrame(np.zeros((30, 1)))\n",
    "acc_list1 = pd.DataFrame(np.empty((0, 0)))\n",
    "val_acc_list1 = pd.DataFrame(np.empty((0, 0)))\n",
    "\n",
    "acc2 = pd.DataFrame(np.zeros((30, 1)))\n",
    "val_acc2 = pd.DataFrame(np.zeros((30, 1)))\n",
    "acc_list2 = pd.DataFrame(np.empty((0, 0)))\n",
    "val_acc_list2 = pd.DataFrame(np.empty((0, 0)))\n",
    "\n",
    "acc3= pd.DataFrame(np.zeros((30, 1)))\n",
    "val_acc3 = pd.DataFrame(np.zeros((30, 1)))\n",
    "acc_list3 = pd.DataFrame(np.empty((0, 0)))\n",
    "val_acc_list3 = pd.DataFrame(np.empty((0, 0)))"
   ]
  },
  {
   "cell_type": "code",
   "execution_count": 11,
   "metadata": {},
   "outputs": [],
   "source": [
    "for i in f_list1:\n",
    "    with open(os.path.join(source_dir1, i, 'history.log'), mode='rb') as f:\n",
    "        data = pickle.load(f)\n",
    "        local_acc = pd.DataFrame(data['acc'])\n",
    "        local_val_acc = pd.DataFrame(data['val_acc'])\n",
    "        acc1 += local_acc\n",
    "        val_acc1 += local_val_acc\n",
    "        acc_list1 = pd.concat([acc_list1, local_acc], axis=1)\n",
    "        val_acc_list1 = pd.concat([val_acc_list1, local_val_acc], axis=1)"
   ]
  },
  {
   "cell_type": "code",
   "execution_count": 15,
   "metadata": {},
   "outputs": [],
   "source": [
    "for i in f_list2:\n",
    "    with open(os.path.join(source_dir2, i, 'history.log'), mode='rb') as f:\n",
    "        data = pickle.load(f)\n",
    "        local_acc = pd.DataFrame(data['acc'])\n",
    "        local_val_acc = pd.DataFrame(data['val_acc'])\n",
    "        acc2 += local_acc\n",
    "        val_acc2 += local_val_acc\n",
    "        acc_list2 = pd.concat([acc_list2, local_acc], axis=1)\n",
    "        val_acc_list2 = pd.concat([val_acc_list2, local_val_acc], axis=1)"
   ]
  },
  {
   "cell_type": "code",
   "execution_count": 16,
   "metadata": {},
   "outputs": [],
   "source": [
    "for i in f_list3:\n",
    "    with open(os.path.join(source_dir3, i, 'history.log'), mode='rb') as f:\n",
    "        data = pickle.load(f)\n",
    "        local_acc = pd.DataFrame(data['acc'])\n",
    "        local_val_acc = pd.DataFrame(data['val_acc'])\n",
    "        acc3 += local_acc\n",
    "        val_acc3 += local_val_acc\n",
    "        acc_list3 = pd.concat([acc_list3, local_acc], axis=1)\n",
    "        val_acc_list3 = pd.concat([val_acc_list3, local_val_acc], axis=1)"
   ]
  },
  {
   "cell_type": "code",
   "execution_count": 17,
   "metadata": {},
   "outputs": [],
   "source": [
    "y11 = acc_list1.mean(axis=1).values\n",
    "x11 = np.array(list(range(len(acc_list1)))) + 1\n",
    "y12 = val_acc_list1.mean(axis=1).values\n",
    "x12 = np.array(list(range(len(val_acc_list1)))) + 1\n",
    "\n",
    "y21 = acc_list2.mean(axis=1).values\n",
    "x21 = np.array(list(range(len(acc_list2)))) + 1\n",
    "y22 = val_acc_list2.mean(axis=1).values\n",
    "x22 = np.array(list(range(len(val_acc_list2)))) + 1\n",
    "\n",
    "y31 = acc_list3.mean(axis=1).values\n",
    "x31 = np.array(list(range(len(acc_list3)))) + 1\n",
    "y32 = val_acc_list3.mean(axis=1).values\n",
    "x32 = np.array(list(range(len(val_acc_list3)))) + 1\n"
   ]
  },
  {
   "cell_type": "code",
   "execution_count": 19,
   "metadata": {},
   "outputs": [],
   "source": [
    "plot_data_acc = []\n",
    "plot_data_val = []"
   ]
  },
  {
   "cell_type": "code",
   "execution_count": 21,
   "metadata": {},
   "outputs": [],
   "source": [
    "trace = go.Scatter(\n",
    "    x=x11,\n",
    "    y=y11,\n",
    "    name='Model 1',\n",
    "    mode='lines+markers',\n",
    "    line=dict(\n",
    "        color=(\"#ff5712\"),\n",
    "    ),\n",
    "    marker=dict(\n",
    "        size=12,\n",
    "        symbol=0\n",
    "    )\n",
    ")\n",
    "\n",
    "plot_data_acc.append(trace)"
   ]
  },
  {
   "cell_type": "code",
   "execution_count": 22,
   "metadata": {},
   "outputs": [],
   "source": [
    "trace = go.Scatter(\n",
    "    x=x21,\n",
    "    y=y21,\n",
    "    name='Model 2',\n",
    "    mode='lines+markers',\n",
    "    line=dict(\n",
    "        color=(\"#3b8da6\"),\n",
    "    ),\n",
    "    marker=dict(\n",
    "        size=12,\n",
    "        symbol=202\n",
    "    )\n",
    ")\n",
    "\n",
    "plot_data_acc.append(trace)"
   ]
  },
  {
   "cell_type": "code",
   "execution_count": 23,
   "metadata": {},
   "outputs": [],
   "source": [
    "trace = go.Scatter(\n",
    "    x=x31,\n",
    "    y=y31,\n",
    "    name='Model 3',\n",
    "    mode='lines+markers',\n",
    "    line=dict(\n",
    "        color=(\"#ffc917\"),\n",
    "    ),\n",
    "    marker=dict(\n",
    "        size=12,\n",
    "        symbol=5\n",
    "    )\n",
    ")\n",
    "\n",
    "plot_data_acc.append(trace)"
   ]
  },
  {
   "cell_type": "code",
   "execution_count": 24,
   "metadata": {},
   "outputs": [],
   "source": [
    "layout = go.Layout(font=dict(size=24),\n",
    "                   xaxis=dict(title=\"Epochs\",\n",
    "                              titlefont=dict(size=24)\n",
    "                              ),\n",
    "                   yaxis=dict(title=\"Accuracy\",\n",
    "                              titlefont=dict(size=24)\n",
    "                              )\n",
    "                   )\n",
    "fig = go.Figure(data=plot_data_acc, layout=layout)"
   ]
  },
  {
   "cell_type": "code",
   "execution_count": 25,
   "metadata": {},
   "outputs": [
    {
     "data": {
      "text/plain": [
       "'file:///Users/yoshilab/PycharmProjects/data_plot/html/age_gm_accuracy.html'"
      ]
     },
     "execution_count": 25,
     "metadata": {},
     "output_type": "execute_result"
    }
   ],
   "source": [
    "plot(fig, filename='./svg/age_gm_accuracy.html', image_height=750, image_width=1200, image=\"svg\", auto_open=False)\n",
    "plot(fig, filename='./html/age_gm_accuracy.html', auto_open=False)"
   ]
  },
  {
   "cell_type": "code",
   "execution_count": 20,
   "metadata": {},
   "outputs": [],
   "source": [
    "trace = go.Scatter(\n",
    "    x=x12,\n",
    "    y=y12,\n",
    "    name='Model 1',\n",
    "    mode='lines+markers',\n",
    "    line=dict(\n",
    "        color=(\"#ff4571\"),\n",
    "    ),\n",
    "    marker=dict(\n",
    "        size=12,\n",
    "        symbol=0\n",
    "    )\n",
    ")\n",
    "\n",
    "plot_data_val.append(trace)"
   ]
  },
  {
   "cell_type": "code",
   "execution_count": 26,
   "metadata": {},
   "outputs": [],
   "source": [
    "trace = go.Scatter(\n",
    "    x=x22,\n",
    "    y=y22,\n",
    "    name='Model 2',\n",
    "    mode='lines+markers',\n",
    "    line=dict(\n",
    "        color=(\"#003195\"),\n",
    "    ),\n",
    "    marker=dict(\n",
    "        size=12,\n",
    "        symbol=202\n",
    "    )\n",
    ")\n",
    "\n",
    "plot_data_val.append(trace)"
   ]
  },
  {
   "cell_type": "code",
   "execution_count": 27,
   "metadata": {},
   "outputs": [],
   "source": [
    "trace = go.Scatter(\n",
    "    x=x32,\n",
    "    y=y32,\n",
    "    name='Model 3',\n",
    "    mode='lines+markers',\n",
    "    line=dict(\n",
    "        color=(\"#ff850a\"),\n",
    "    ),\n",
    "    marker=dict(\n",
    "        size=12,\n",
    "        symbol=5\n",
    "    )\n",
    ")\n",
    "\n",
    "plot_data_val.append(trace)"
   ]
  },
  {
   "cell_type": "code",
   "execution_count": 28,
   "metadata": {},
   "outputs": [],
   "source": [
    "layout = go.Layout(font=dict(size=24),\n",
    "                   xaxis=dict(title=\"Epochs\",\n",
    "                              titlefont=dict(size=24)\n",
    "                              ),\n",
    "                   yaxis=dict(title=\"Accuracy\",\n",
    "                              titlefont=dict(size=24)\n",
    "                              )\n",
    "                   )\n",
    "fig = go.Figure(data=plot_data_val, layout=layout)"
   ]
  },
  {
   "cell_type": "code",
   "execution_count": 29,
   "metadata": {},
   "outputs": [
    {
     "data": {
      "text/plain": [
       "'file:///Users/yoshilab/PycharmProjects/data_plot/html/age_gm_val.html'"
      ]
     },
     "execution_count": 29,
     "metadata": {},
     "output_type": "execute_result"
    }
   ],
   "source": [
    "plot(fig, filename='./svg/age_gm_val.html', image_height=750, image_width=1200, image=\"svg\", auto_open=False)\n",
    "plot(fig, filename='./html/age_gm_val.html', auto_open=False)"
   ]
  },
  {
   "cell_type": "code",
   "execution_count": null,
   "metadata": {},
   "outputs": [],
   "source": []
  }
 ],
 "metadata": {
  "kernelspec": {
   "display_name": "Python 2",
   "language": "python",
   "name": "python2"
  },
  "language_info": {
   "codemirror_mode": {
    "name": "ipython",
    "version": 2
   },
   "file_extension": ".py",
   "mimetype": "text/x-python",
   "name": "python",
   "nbconvert_exporter": "python",
   "pygments_lexer": "ipython2",
   "version": "2.7.6"
  }
 },
 "nbformat": 4,
 "nbformat_minor": 0
}
