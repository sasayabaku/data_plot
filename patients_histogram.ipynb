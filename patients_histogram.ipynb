{
 "cells": [
  {
   "cell_type": "code",
   "execution_count": 1,
   "metadata": {
    "collapsed": true
   },
   "outputs": [],
   "source": [
    "from config.load_config import ConfigGetter\n",
    "\n",
    "conf = ConfigGetter(\"lab_mac\")\n",
    "source_dir = conf.data_path\n",
    "model_dir = conf.model_path"
   ]
  },
  {
   "cell_type": "code",
   "execution_count": 3,
   "metadata": {},
   "outputs": [],
   "source": [
    "import os\n",
    "import pandas as pd\n",
    "import numpy as np\n",
    "from plotly.offline import iplot, init_notebook_mode, plot\n",
    "import plotly.graph_objs as go"
   ]
  },
  {
   "cell_type": "code",
   "execution_count": 4,
   "metadata": {},
   "outputs": [],
   "source": [
    "data = pd.read_csv(os.path.join('csv', 'out.csv'),\n",
    "                   header=None,\n",
    "                   index_col=None, names=['real', 'predict'])"
   ]
  },
  {
   "cell_type": "code",
   "execution_count": 30,
   "metadata": {},
   "outputs": [],
   "source": [
    "trace1 = go.Histogram(\n",
    "    x=data['real'],\n",
    "    opacity=0.9,\n",
    "    marker=dict(\n",
    "        # color=\"#003195\"\n",
    "        color=\"#3b9ab1\"\n",
    "    ),\n",
    "    name=\"Real\",\n",
    "    xbins=dict(\n",
    "        start=20,\n",
    "        end=90,\n",
    "        size=1\n",
    "    )\n",
    ")\n",
    "\n",
    "trace2 = go.Histogram(\n",
    "    x=data['predict'] * 100,\n",
    "    opacity=0.75,\n",
    "    marker=dict(\n",
    "        color=\"#ff4560\"\n",
    "    ),\n",
    "    name=\"Predict\",\n",
    "    xbins=dict(\n",
    "        start=20,\n",
    "        end=90,\n",
    "        size=1\n",
    "    )\n",
    ")\n",
    "\n",
    "pdata = [trace1, trace2]\n",
    "layout = go.Layout(barmode='overlay',\n",
    "                   font=dict(size=24)\n",
    "                   )\n",
    "fig = go.Figure(data=pdata, layout=layout)"
   ]
  },
  {
   "cell_type": "code",
   "execution_count": 31,
   "metadata": {},
   "outputs": [
    {
     "data": {
      "text/plain": [
       "'file:///Users/yoshilab/PycharmProjects/data_plot/html/hist_real_predict.html'"
      ]
     },
     "execution_count": 31,
     "metadata": {},
     "output_type": "execute_result"
    }
   ],
   "source": [
    "plot(fig, filename='html/hist_real_predict.html', image_height=750, image_width=1200, image='svg', auto_open=False)"
   ]
  },
  {
   "cell_type": "code",
   "execution_count": null,
   "metadata": {},
   "outputs": [],
   "source": []
  }
 ],
 "metadata": {
  "kernelspec": {
   "display_name": "Python 2",
   "language": "python",
   "name": "python2"
  },
  "language_info": {
   "codemirror_mode": {
    "name": "ipython",
    "version": 2
   },
   "file_extension": ".py",
   "mimetype": "text/x-python",
   "name": "python",
   "nbconvert_exporter": "python",
   "pygments_lexer": "ipython2",
   "version": "2.7.6"
  }
 },
 "nbformat": 4,
 "nbformat_minor": 0
}
