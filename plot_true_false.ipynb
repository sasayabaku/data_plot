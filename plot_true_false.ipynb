{
 "cells": [
  {
   "cell_type": "code",
   "execution_count": 5,
   "metadata": {
    "collapsed": true
   },
   "outputs": [],
   "source": [
    "source_dir1 = '/Users/yoshilab/googledrive/research/30regression/result/08010843'\n",
    "# source_dir1 = '/Users/yoshilab/googledrive/research/20regression/result/'\n",
    "# source_dir1 = '/Users/yoshilab/googledrive/research/multiple_regression/all_brain/07311311'\n",
    "# source_dir1 = '/Volumes/share-2/log/learning/age/result/08060501'"
   ]
  },
  {
   "cell_type": "code",
   "execution_count": 2,
   "metadata": {},
   "outputs": [],
   "source": [
    "import os\n",
    "import pandas as pd\n",
    "import numpy as np\n",
    "import pickle\n",
    "from plotly.offline import iplot, init_notebook_mode, plot\n",
    "import plotly.graph_objs as go"
   ]
  },
  {
   "cell_type": "code",
   "execution_count": 3,
   "metadata": {},
   "outputs": [
    {
     "name": "stderr",
     "output_type": "stream",
     "text": [
      "/Users/yoshilab/.pyenv/versions/3.5.1/lib/python3.5/site-packages/h5py/__init__.py:34: FutureWarning:\n\nConversion of the second argument of issubdtype from `float` to `np.floating` is deprecated. In future, it will be treated as `np.float64 == np.dtype(float).type`.\n\n"
     ]
    },
    {
     "name": "stderr",
     "output_type": "stream",
     "text": [
      "Using TensorFlow backend.\n"
     ]
    }
   ],
   "source": [
    "import keras\n",
    "from keras.models import model_from_json\n",
    "\n",
    "from nilearn import image as nilimg\n",
    "import sys"
   ]
  },
  {
   "cell_type": "code",
   "execution_count": 6,
   "metadata": {},
   "outputs": [],
   "source": [
    "json_string = open(os.path.join(source_dir1, 'model.json')).read()\n",
    "model = model_from_json(json_string)\n",
    "\n",
    "model.load_weights(os.path.join(source_dir1, 'weights.hdf5'))"
   ]
  },
  {
   "cell_type": "code",
   "execution_count": 7,
   "metadata": {},
   "outputs": [],
   "source": [
    "SLICE_NUM = 185\n",
    "MAX_VALUE = 1914.090820\n",
    "data_path = '/Volumes/matlab_share/nifti_img/3DEGIR_SAG'"
   ]
  },
  {
   "cell_type": "code",
   "execution_count": 11,
   "metadata": {},
   "outputs": [],
   "source": [
    "month_list = os.listdir(data_path)\n",
    "pat_list_dir = '/Users/yoshilab/PycharmProjects/MRA/structure_data'"
   ]
  },
  {
   "cell_type": "code",
   "execution_count": 11,
   "metadata": {},
   "outputs": [],
   "source": [
    "predict_list = np.empty((0, 2)).astype(np.float32)"
   ]
  },
  {
   "cell_type": "code",
   "execution_count": 13,
   "metadata": {},
   "outputs": [],
   "source": [
    "for month in month_list:\n",
    "    patlist = [patient for patient in os.listdir(os.path.join(data_path, month))]\n",
    "    pat_id_list = pd.read_csv(os.path.join(pat_list_dir, month,'patient_data.csv'),\n",
    "                              header=None,\n",
    "                              index_col=None, names=['dir', 'pid', 'page', 'psex'],\n",
    "                              dtype={'pid': 'object'})\n",
    "    for patient in patlist:\n",
    "        nifti_files = os.listdir(os.path.join(data_path, month, patient))\n",
    "        raw_file = [file for file in nifti_files if file.startswith('2018') & file.endswith('.nii')][0]\n",
    "        personal_nifti = nilimg.smooth_img(os.path.join(data_path, month, patient, raw_file), fwhm='fast')\n",
    "        personal_img = personal_nifti.get_data()\n",
    "        reshape_img = np.reshape(personal_img, (1, personal_img.shape[0], personal_img.shape[1], personal_img.shape[2]))\n",
    "        \n",
    "        if reshape_img.shape[3] < SLICE_NUM:\n",
    "            train_img = np.append(reshape_img, np.zeros((1, reshape_img.shape[1], reshape_img.shape[2], SLICE_NUM - reshape_img.shape[3])), axis=3)\n",
    "        elif reshape_img.shape[3] == SLICE_NUM:\n",
    "            train_img = reshape_img\n",
    "        else:\n",
    "            sys.stderr.write('Data Size Error: This Nifti file size is ' + str(reshape_img.shape))\n",
    "            sys.exit()\n",
    "        \n",
    "        personal_age = pat_id_list[pat_id_list.dir == str(patient)]['page'].values[0]\n",
    "        train_label = [int(personal_age.rstrip('Y'))]\n",
    "        \n",
    "        train_img /= MAX_VALUE\n",
    "        predict_age = model.predict(train_img)\n",
    "        \n",
    "        data = np.array([[train_label[0], predict_age[0][0]]])\n",
    "        predict_list = np.append(predict_list, data, axis=0)\n",
    "        # print(predict_list)"
   ]
  },
  {
   "cell_type": "code",
   "execution_count": 9,
   "metadata": {},
   "outputs": [],
   "source": [
    "import plotly.plotly as py\n",
    "import plotly.graph_objs as go"
   ]
  },
  {
   "cell_type": "code",
   "execution_count": 10,
   "metadata": {},
   "outputs": [],
   "source": [
    "trace = go.Scatter(\n",
    "    x=predict_list[:, 0],\n",
    "    y=predict_list[:, 1],\n",
    "    mode='markers',\n",
    "    marker=dict(\n",
    "        color=(\"#62ef91\"),\n",
    "        size=10\n",
    "    )\n",
    ")\n",
    "\n",
    "data = [trace]"
   ]
  },
  {
   "cell_type": "code",
   "execution_count": 13,
   "metadata": {},
   "outputs": [],
   "source": [
    "layout = go.Layout(font=dict(size=24),\n",
    "                   xaxis=dict(title=\"Real Age\",\n",
    "                              titlefont=dict(size=24),\n",
    "                              range=[0, 100]),\n",
    "                   yaxis=dict(title=\"Predict Age\",\n",
    "                              titlefont=dict(size=24),\n",
    "                              range=[0, 100])\n",
    "                   )\n",
    "\n",
    "fig = go.Figure(data=data, layout=layout)"
   ]
  },
  {
   "cell_type": "code",
   "execution_count": 14,
   "metadata": {},
   "outputs": [
    {
     "data": {
      "text/plain": [
       "'file:///Users/yoshilab/PycharmProjects/MRA/predict_result_cnn_real.html'"
      ]
     },
     "execution_count": 14,
     "metadata": {},
     "output_type": "execute_result"
    }
   ],
   "source": [
    "plot(fig, filename=\"./predict_result_cnn_real.html\", image_height=750, image_width=1200, image=\"svg\", auto_open=False)"
   ]
  },
  {
   "cell_type": "code",
   "execution_count": 15,
   "metadata": {},
   "outputs": [],
   "source": [
    "np.savetxt('out.csv', predict_list,delimiter=',')"
   ]
  },
  {
   "cell_type": "code",
   "execution_count": 14,
   "metadata": {},
   "outputs": [
    {
     "data": {
      "text/plain": [
       "array([[57.        ,  0.58008575],\n       [43.        ,  0.57354814],\n       [38.        ,  0.53197026],\n       [42.        ,  0.55861026],\n       [46.        ,  0.55325854],\n       [52.        ,  0.56397861],\n       [47.        ,  0.59798092],\n       [63.        ,  0.54537886],\n       [60.        ,  0.57296449],\n       [68.        ,  0.54253113],\n       [31.        ,  0.55709499],\n       [63.        ,  0.59384054],\n       [50.        ,  0.63078034],\n       [51.        ,  0.57394427],\n       [55.        ,  0.53613877],\n       [71.        ,  0.61700946],\n       [63.        ,  0.58068007],\n       [47.        ,  0.55002636],\n       [45.        ,  0.56319928],\n       [67.        ,  0.61276025],\n       [60.        ,  0.54593223],\n       [27.        ,  0.55536616],\n       [57.        ,  0.54765505],\n       [68.        ,  0.57490861],\n       [54.        ,  0.57577848],\n       [79.        ,  0.5863682 ],\n       [65.        ,  0.57210702],\n       [43.        ,  0.56047755],\n       [69.        ,  0.55160731],\n       [40.        ,  0.56202972],\n       [64.        ,  0.55418587],\n       [60.        ,  0.59064227],\n       [35.        ,  0.60037881],\n       [50.        ,  0.62909847],\n       [43.        ,  0.56545091],\n       [54.        ,  0.55832839],\n       [73.        ,  0.55515063],\n       [52.        ,  0.56073433],\n       [56.        ,  0.56171495],\n       [58.        ,  0.61767286],\n       [54.        ,  0.5625869 ],\n       [62.        ,  0.58193314],\n       [38.        ,  0.57169801],\n       [55.        ,  0.59178996],\n       [42.        ,  0.55052173],\n       [72.        ,  0.55484223],\n       [46.        ,  0.57623738],\n       [51.        ,  0.5717833 ],\n       [51.        ,  0.56855565],\n       [74.        ,  0.56879538],\n       [70.        ,  0.55152041],\n       [69.        ,  0.59669888],\n       [50.        ,  0.60532045],\n       [64.        ,  0.57499397],\n       [43.        ,  0.56123847],\n       [48.        ,  0.55620766],\n       [56.        ,  0.56818622],\n       [43.        ,  0.58310312],\n       [65.        ,  0.64663899],\n       [62.        ,  0.60939223],\n       [56.        ,  0.56467837],\n       [61.        ,  0.56261259],\n       [66.        ,  0.56461668],\n       [60.        ,  0.55630291],\n       [54.        ,  0.56825268],\n       [69.        ,  0.55765671],\n       [56.        ,  0.58481491],\n       [62.        ,  0.58756667],\n       [36.        ,  0.58125687],\n       [81.        ,  0.582802  ],\n       [53.        ,  0.56505531],\n       [41.        ,  0.57758135],\n       [44.        ,  0.54210782],\n       [56.        ,  0.55613214],\n       [47.        ,  0.57080168],\n       [83.        ,  0.54860318],\n       [45.        ,  0.57231027],\n       [43.        ,  0.56002158],\n       [70.        ,  0.56125283],\n       [55.        ,  0.57728708],\n       [47.        ,  0.62623423],\n       [64.        ,  0.5763815 ],\n       [68.        ,  0.58792424],\n       [52.        ,  0.5903163 ],\n       [53.        ,  0.58421206],\n       [60.        ,  0.57084572],\n       [74.        ,  0.57316768],\n       [55.        ,  0.5792715 ],\n       [49.        ,  0.57749391],\n       [61.        ,  0.55662751],\n       [54.        ,  0.57736486],\n       [70.        ,  0.54421765],\n       [71.        ,  0.57345748],\n       [58.        ,  0.54998726],\n       [46.        ,  0.56930918],\n       [68.        ,  0.57376927],\n       [45.        ,  0.58385336],\n       [55.        ,  0.54360133],\n       [76.        ,  0.56636268],\n       [47.        ,  0.56499505],\n       [40.        ,  0.61267769],\n       [72.        ,  0.5698154 ],\n       [43.        ,  0.57884777],\n       [63.        ,  0.61365151],\n       [73.        ,  0.56297213],\n       [49.        ,  0.5640986 ],\n       [67.        ,  0.60921335],\n       [67.        ,  0.57512683],\n       [43.        ,  0.57779253],\n       [59.        ,  0.55866861],\n       [53.        ,  0.59422964],\n       [41.        ,  0.58394796],\n       [54.        ,  0.57242781],\n       [64.        ,  0.55150092],\n       [51.        ,  0.56894344],\n       [57.        ,  0.64786661],\n       [34.        ,  0.59567595],\n       [42.        ,  0.59289145],\n       [49.        ,  0.55774832],\n       [50.        ,  0.56963235],\n       [55.        ,  0.57562834],\n       [70.        ,  0.56586945],\n       [41.        ,  0.57749271],\n       [46.        ,  0.56533825],\n       [63.        ,  0.56517786],\n       [41.        ,  0.60475427],\n       [51.        ,  0.57770127],\n       [68.        ,  0.56476218],\n       [30.        ,  0.54565895],\n       [78.        ,  0.55849159],\n       [75.        ,  0.57722658],\n       [56.        ,  0.5558309 ],\n       [51.        ,  0.56141013],\n       [48.        ,  0.56561434],\n       [58.        ,  0.56126595],\n       [47.        ,  0.56329113],\n       [44.        ,  0.55871838],\n       [52.        ,  0.55813158],\n       [63.        ,  0.56082135],\n       [56.        ,  0.57024294],\n       [52.        ,  0.57253981],\n       [52.        ,  0.56311989],\n       [46.        ,  0.55984569],\n       [47.        ,  0.55607206],\n       [47.        ,  0.59227175],\n       [53.        ,  0.57344413],\n       [43.        ,  0.56105137],\n       [65.        ,  0.58719885],\n       [59.        ,  0.57785571],\n       [55.        ,  0.55254626],\n       [51.        ,  0.59246504],\n       [81.        ,  0.56317985],\n       [61.        ,  0.58599538],\n       [62.        ,  0.57442182],\n       [44.        ,  0.60389662],\n       [61.        ,  0.56104803],\n       [68.        ,  0.54793561],\n       [68.        ,  0.58426374],\n       [59.        ,  0.58410841],\n       [61.        ,  0.53855175],\n       [53.        ,  0.56681985],\n       [60.        ,  0.55524641],\n       [56.        ,  0.56187022],\n       [45.        ,  0.55470198],\n       [44.        ,  0.57736963],\n       [55.        ,  0.58006197],\n       [54.        ,  0.54740685],\n       [70.        ,  0.60438871],\n       [45.        ,  0.56833494],\n       [54.        ,  0.55053025],\n       [74.        ,  0.56387174],\n       [56.        ,  0.61725831],\n       [60.        ,  0.56909013],\n       [63.        ,  0.60618752],\n       [57.        ,  0.59197909],\n       [66.        ,  0.6220215 ],\n       [69.        ,  0.5789941 ],\n       [54.        ,  0.59265423],\n       [49.        ,  0.58636218],\n       [60.        ,  0.56260973],\n       [80.        ,  0.56840539],\n       [55.        ,  0.55479831],\n       [79.        ,  0.56894451],\n       [51.        ,  0.55774313],\n       [54.        ,  0.57759351],\n       [55.        ,  0.56198615],\n       [65.        ,  0.55264622],\n       [41.        ,  0.64670086],\n       [73.        ,  0.57352543],\n       [56.        ,  0.62560755],\n       [46.        ,  0.58785605],\n       [70.        ,  0.57560199],\n       [56.        ,  0.55832797],\n       [54.        ,  0.55706835],\n       [56.        ,  0.56958866],\n       [46.        ,  0.57815349],\n       [52.        ,  0.60585552],\n       [38.        ,  0.57135165],\n       [58.        ,  0.56686425],\n       [60.        ,  0.57874268],\n       [58.        ,  0.54654419],\n       [41.        ,  0.5498184 ],\n       [70.        ,  0.53891611],\n       [68.        ,  0.6023007 ],\n       [34.        ,  0.6026029 ],\n       [59.        ,  0.56354278],\n       [55.        ,  0.58152843],\n       [55.        ,  0.57131791],\n       [33.        ,  0.62408841],\n       [48.        ,  0.5749861 ],\n       [49.        ,  0.63224703],\n       [55.        ,  0.54438514],\n       [62.        ,  0.57196033],\n       [60.        ,  0.55983984],\n       [22.        ,  0.55298853],\n       [65.        ,  0.58585161],\n       [76.        ,  0.62456512],\n       [49.        ,  0.61048526],\n       [61.        ,  0.56479824],\n       [67.        ,  0.57128727],\n       [73.        ,  0.56004888],\n       [60.        ,  0.55730343],\n       [53.        ,  0.56537408],\n       [58.        ,  0.55272722],\n       [75.        ,  0.57714105],\n       [40.        ,  0.55872113],\n       [68.        ,  0.58021498],\n       [70.        ,  0.5626415 ],\n       [80.        ,  0.5371176 ],\n       [64.        ,  0.57730287],\n       [65.        ,  0.55704582],\n       [51.        ,  0.56140095],\n       [55.        ,  0.5694806 ],\n       [54.        ,  0.57578295],\n       [48.        ,  0.64937198],\n       [43.        ,  0.54521948],\n       [53.        ,  0.58314681],\n       [46.        ,  0.59151357],\n       [65.        ,  0.59244215],\n       [69.        ,  0.56397152],\n       [50.        ,  0.56285769],\n       [58.        ,  0.55983871],\n       [65.        ,  0.56143618],\n       [57.        ,  0.58490646],\n       [40.        ,  0.55407703],\n       [51.        ,  0.57712251],\n       [64.        ,  0.58303529],\n       [53.        ,  0.56469828],\n       [59.        ,  0.59452498],\n       [43.        ,  0.56254339],\n       [62.        ,  0.63411945],\n       [55.        ,  0.56013232],\n       [69.        ,  0.57192618],\n       [59.        ,  0.5824275 ],\n       [64.        ,  0.56590384],\n       [60.        ,  0.63304371],\n       [38.        ,  0.55916798],\n       [70.        ,  0.58511484],\n       [49.        ,  0.57309979],\n       [77.        ,  0.61050129],\n       [50.        ,  0.55040526],\n       [55.        ,  0.57071674],\n       [64.        ,  0.5719257 ],\n       [65.        ,  0.56796658],\n       [64.        ,  0.57080048],\n       [47.        ,  0.57941675],\n       [60.        ,  0.57297081],\n       [59.        ,  0.57350135],\n       [40.        ,  0.53208274],\n       [58.        ,  0.62688583],\n       [60.        ,  0.5614993 ],\n       [43.        ,  0.55193812],\n       [51.        ,  0.57260621],\n       [51.        ,  0.57857251],\n       [67.        ,  0.54811096],\n       [72.        ,  0.61998123],\n       [85.        ,  0.55291569],\n       [51.        ,  0.56421375],\n       [53.        ,  0.58691168],\n       [62.        ,  0.56327468],\n       [49.        ,  0.56633198],\n       [41.        ,  0.58632302],\n       [64.        ,  0.59218574],\n       [60.        ,  0.58494765],\n       [70.        ,  0.54629958],\n       [59.        ,  0.55904007],\n       [69.        ,  0.57980108],\n       [66.        ,  0.56924111],\n       [68.        ,  0.57547605],\n       [57.        ,  0.56180018],\n       [42.        ,  0.54384232],\n       [57.        ,  0.62467599],\n       [58.        ,  0.53156435],\n       [63.        ,  0.57435542],\n       [40.        ,  0.58303446],\n       [59.        ,  0.56428534],\n       [60.        ,  0.56697005],\n       [60.        ,  0.59158069],\n       [41.        ,  0.57501572],\n       [82.        ,  0.57420075],\n       [64.        ,  0.56109905],\n       [51.        ,  0.57184333],\n       [30.        ,  0.5462237 ],\n       [59.        ,  0.54225475],\n       [39.        ,  0.5704453 ],\n       [44.        ,  0.57524979],\n       [49.        ,  0.56523067],\n       [49.        ,  0.5780651 ],\n       [45.        ,  0.56251371],\n       [61.        ,  0.58253461],\n       [42.        ,  0.57701689],\n       [78.        ,  0.58827394],\n       [67.        ,  0.54179633],\n       [64.        ,  0.56218159],\n       [68.        ,  0.55712974],\n       [54.        ,  0.58350205],\n       [62.        ,  0.58029032],\n       [60.        ,  0.56392485],\n       [65.        ,  0.56905389],\n       [78.        ,  0.57713044],\n       [64.        ,  0.5413785 ],\n       [44.        ,  0.57198566],\n       [49.        ,  0.55488545],\n       [53.        ,  0.5608142 ],\n       [55.        ,  0.56707174],\n       [55.        ,  0.56678116],\n       [61.        ,  0.56467438],\n       [71.        ,  0.58561409],\n       [56.        ,  0.58098996],\n       [48.        ,  0.52988547],\n       [31.        ,  0.5777756 ],\n       [42.        ,  0.58213103],\n       [50.        ,  0.54725289],\n       [40.        ,  0.56137466],\n       [65.        ,  0.58066642],\n       [78.        ,  0.54666001],\n       [44.        ,  0.55368572],\n       [72.        ,  0.55804414],\n       [50.        ,  0.55586922],\n       [43.        ,  0.57728207],\n       [46.        ,  0.5920102 ],\n       [74.        ,  0.55995065],\n       [64.        ,  0.58159792],\n       [63.        ,  0.54990381],\n       [63.        ,  0.54667783],\n       [57.        ,  0.56537193],\n       [60.        ,  0.55107248],\n       [50.        ,  0.55938238],\n       [67.        ,  0.56313461],\n       [67.        ,  0.57463133],\n       [69.        ,  0.6160627 ],\n       [56.        ,  0.5418542 ],\n       [63.        ,  0.54906851],\n       [61.        ,  0.59730631],\n       [41.        ,  0.55803138],\n       [66.        ,  0.57218635],\n       [68.        ,  0.55177653],\n       [72.        ,  0.63825953],\n       [63.        ,  0.55731446],\n       [65.        ,  0.57131612],\n       [70.        ,  0.54421711],\n       [57.        ,  0.58316493],\n       [56.        ,  0.57646692],\n       [43.        ,  0.55566627]])"
      ]
     },
     "execution_count": 14,
     "metadata": {},
     "output_type": "execute_result"
    }
   ],
   "source": [
    "predict_list"
   ]
  },
  {
   "cell_type": "code",
   "execution_count": null,
   "metadata": {},
   "outputs": [],
   "source": []
  }
 ],
 "metadata": {
  "kernelspec": {
   "display_name": "Python 2",
   "language": "python",
   "name": "python2"
  },
  "language_info": {
   "codemirror_mode": {
    "name": "ipython",
    "version": 2
   },
   "file_extension": ".py",
   "mimetype": "text/x-python",
   "name": "python",
   "nbconvert_exporter": "python",
   "pygments_lexer": "ipython2",
   "version": "2.7.6"
  }
 },
 "nbformat": 4,
 "nbformat_minor": 0
}
