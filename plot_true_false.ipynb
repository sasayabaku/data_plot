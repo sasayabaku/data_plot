{
 "cells": [
  {
   "cell_type": "code",
   "execution_count": 2,
   "metadata": {
    "collapsed": true
   },
   "outputs": [],
   "source": [
    "source_dir1 = '/Users/yoshilab/googledrive/research/30regression/result/08010843'\n",
    "source_dir1 = '/Users/yoshilab/googledrive/research/20regression/result/'\n",
    "# source_dir1 = '/Users/yoshilab/googledrive/research/multiple_regression/all_brain/07311311'\n",
    "# source_dir1 = '/Volumes/share-2/log/learning/age/result/08060501'"
   ]
  },
  {
   "cell_type": "code",
   "execution_count": 4,
   "metadata": {},
   "outputs": [],
   "source": [
    "import os\n",
    "import pandas as pd\n",
    "import numpy as np\n",
    "import pickle\n",
    "from plotly.offline import iplot, init_notebook_mode, plot\n",
    "import plotly.graph_objs as go"
   ]
  },
  {
   "cell_type": "code",
   "execution_count": 5,
   "metadata": {},
   "outputs": [
    {
     "name": "stderr",
     "output_type": "stream",
     "text": [
      "/Users/yoshilab/.pyenv/versions/3.5.1/lib/python3.5/site-packages/h5py/__init__.py:34: FutureWarning:\n\nConversion of the second argument of issubdtype from `float` to `np.floating` is deprecated. In future, it will be treated as `np.float64 == np.dtype(float).type`.\n\n"
     ]
    },
    {
     "name": "stderr",
     "output_type": "stream",
     "text": [
      "Using TensorFlow backend.\n"
     ]
    }
   ],
   "source": [
    "import keras\n",
    "from keras.models import model_from_json\n",
    "\n",
    "from nilearn import image as nilimg\n",
    "import sys"
   ]
  },
  {
   "cell_type": "code",
   "execution_count": 6,
   "metadata": {},
   "outputs": [
    {
     "ename": "FileNotFoundError",
     "evalue": "[Errno 2] No such file or directory: '/Users/yoshilab/googledrive/research/20regression/result/08010843/model.json'",
     "traceback": [
      "\u001b[0;31m---------------------------------------------------------------------------\u001b[0m",
      "\u001b[0;31mFileNotFoundError\u001b[0m                         Traceback (most recent call last)",
      "\u001b[0;32m<ipython-input-6-ec72da44ed9e>\u001b[0m in \u001b[0;36m<module>\u001b[0;34m()\u001b[0m\n\u001b[0;32m----> 1\u001b[0;31m \u001b[0mjson_string\u001b[0m \u001b[0;34m=\u001b[0m \u001b[0mopen\u001b[0m\u001b[0;34m(\u001b[0m\u001b[0mos\u001b[0m\u001b[0;34m.\u001b[0m\u001b[0mpath\u001b[0m\u001b[0;34m.\u001b[0m\u001b[0mjoin\u001b[0m\u001b[0;34m(\u001b[0m\u001b[0msource_dir1\u001b[0m\u001b[0;34m,\u001b[0m \u001b[0;34m'model.json'\u001b[0m\u001b[0;34m)\u001b[0m\u001b[0;34m)\u001b[0m\u001b[0;34m.\u001b[0m\u001b[0mread\u001b[0m\u001b[0;34m(\u001b[0m\u001b[0;34m)\u001b[0m\u001b[0;34m\u001b[0m\u001b[0m\n\u001b[0m\u001b[1;32m      2\u001b[0m \u001b[0mmodel\u001b[0m \u001b[0;34m=\u001b[0m \u001b[0mmodel_from_json\u001b[0m\u001b[0;34m(\u001b[0m\u001b[0mjson_string\u001b[0m\u001b[0;34m)\u001b[0m\u001b[0;34m\u001b[0m\u001b[0m\n\u001b[1;32m      3\u001b[0m \u001b[0;34m\u001b[0m\u001b[0m\n\u001b[1;32m      4\u001b[0m \u001b[0mmodel\u001b[0m\u001b[0;34m.\u001b[0m\u001b[0mload_weights\u001b[0m\u001b[0;34m(\u001b[0m\u001b[0mos\u001b[0m\u001b[0;34m.\u001b[0m\u001b[0mpath\u001b[0m\u001b[0;34m.\u001b[0m\u001b[0mjoin\u001b[0m\u001b[0;34m(\u001b[0m\u001b[0msource_dir1\u001b[0m\u001b[0;34m,\u001b[0m \u001b[0;34m'weights.hdf5'\u001b[0m\u001b[0;34m)\u001b[0m\u001b[0;34m)\u001b[0m\u001b[0;34m\u001b[0m\u001b[0m\n",
      "\u001b[0;31mFileNotFoundError\u001b[0m: [Errno 2] No such file or directory: '/Users/yoshilab/googledrive/research/20regression/result/08010843/model.json'"
     ],
     "output_type": "error"
    }
   ],
   "source": [
    "json_string = open(os.path.join(source_dir1, 'model.json')).read()\n",
    "model = model_from_json(json_string)\n",
    "\n",
    "model.load_weights(os.path.join(source_dir1, 'weights.hdf5'))"
   ]
  },
  {
   "cell_type": "code",
   "execution_count": 5,
   "metadata": {},
   "outputs": [],
   "source": [
    "SLICE_NUM = 185\n",
    "MAX_VALUE = 1914.090820\n",
    "data_path = '/Volumes/matlab_share/nifti_img/3DEGIR_SAG'"
   ]
  },
  {
   "cell_type": "code",
   "execution_count": 7,
   "metadata": {},
   "outputs": [],
   "source": [
    "month_list = os.listdir(data_path)\n",
    "pat_list_dir = './structure_data'"
   ]
  },
  {
   "cell_type": "code",
   "execution_count": 8,
   "metadata": {},
   "outputs": [],
   "source": [
    "predict_list = np.empty((0, 2)).astype(np.float32)"
   ]
  },
  {
   "cell_type": "code",
   "execution_count": 9,
   "metadata": {},
   "outputs": [],
   "source": [
    "for month in month_list:\n",
    "    patlist = [patient for patient in os.listdir(os.path.join(data_path, month))]\n",
    "    pat_id_list = pd.read_csv(os.path.join(pat_list_dir, month,'patient_data.csv'),\n",
    "                              header=None,\n",
    "                              index_col=None, names=['dir', 'pid', 'page', 'psex'],\n",
    "                              dtype={'pid': 'object'})\n",
    "    for patient in patlist:\n",
    "        nifti_files = os.listdir(os.path.join(data_path, month, patient))\n",
    "        raw_file = [file for file in nifti_files if file.startswith('2018') & file.endswith('.nii')][0]\n",
    "        personal_nifti = nilimg.smooth_img(os.path.join(data_path, month, patient, raw_file), fwhm='fast')\n",
    "        personal_img = personal_nifti.get_data()\n",
    "        reshape_img = np.reshape(personal_img, (1, personal_img.shape[0], personal_img.shape[1], personal_img.shape[2]))\n",
    "        \n",
    "        if reshape_img.shape[3] < SLICE_NUM:\n",
    "            train_img = np.append(reshape_img, np.zeros((1, reshape_img.shape[1], reshape_img.shape[2], SLICE_NUM - reshape_img.shape[3])), axis=3)\n",
    "        elif reshape_img.shape[3] == SLICE_NUM:\n",
    "            train_img = reshape_img\n",
    "        else:\n",
    "            sys.stderr.write('Data Size Error: This Nifti file size is ' + str(reshape_img.shape))\n",
    "            sys.exit()\n",
    "        \n",
    "        personal_age = pat_id_list[pat_id_list.dir == str(patient)]['page'].values[0]\n",
    "        train_label = [int(personal_age.rstrip('Y'))]\n",
    "        \n",
    "        train_img /= MAX_VALUE\n",
    "        predict_age = model.predict(train_img)\n",
    "        \n",
    "        data = np.array([[train_label[0], predict_age[0][0]]])\n",
    "        predict_list = np.append(predict_list, data, axis=0)\n",
    "        # print(predict_list)"
   ]
  },
  {
   "cell_type": "code",
   "execution_count": 9,
   "metadata": {},
   "outputs": [],
   "source": [
    "import plotly.plotly as py\n",
    "import plotly.graph_objs as go"
   ]
  },
  {
   "cell_type": "code",
   "execution_count": 10,
   "metadata": {},
   "outputs": [],
   "source": [
    "trace = go.Scatter(\n",
    "    x=predict_list[:, 0],\n",
    "    y=predict_list[:, 1],\n",
    "    mode='markers',\n",
    "    marker=dict(\n",
    "        color=(\"#62ef91\"),\n",
    "        size=10\n",
    "    )\n",
    ")\n",
    "\n",
    "data = [trace]"
   ]
  },
  {
   "cell_type": "code",
   "execution_count": 13,
   "metadata": {},
   "outputs": [],
   "source": [
    "layout = go.Layout(font=dict(size=24),\n",
    "                   xaxis=dict(title=\"Real Age\",\n",
    "                              titlefont=dict(size=24),\n",
    "                              range=[0, 100]),\n",
    "                   yaxis=dict(title=\"Predict Age\",\n",
    "                              titlefont=dict(size=24),\n",
    "                              range=[0, 100])\n",
    "                   )\n",
    "\n",
    "fig = go.Figure(data=data, layout=layout)"
   ]
  },
  {
   "cell_type": "code",
   "execution_count": 14,
   "metadata": {},
   "outputs": [
    {
     "data": {
      "text/plain": [
       "'file:///Users/yoshilab/PycharmProjects/MRA/predict_result_cnn_real.html'"
      ]
     },
     "execution_count": 14,
     "metadata": {},
     "output_type": "execute_result"
    }
   ],
   "source": [
    "plot(fig, filename=\"./predict_result_cnn_real.html\", image_height=750, image_width=1200, image=\"svg\", auto_open=False)"
   ]
  },
  {
   "cell_type": "code",
   "execution_count": 12,
   "metadata": {},
   "outputs": [],
   "source": [
    "np.savetxt('out.csv', predict_list,delimiter=',')"
   ]
  },
  {
   "cell_type": "code",
   "execution_count": null,
   "metadata": {},
   "outputs": [],
   "source": []
  }
 ],
 "metadata": {
  "kernelspec": {
   "display_name": "Python 2",
   "language": "python",
   "name": "python2"
  },
  "language_info": {
   "codemirror_mode": {
    "name": "ipython",
    "version": 2
   },
   "file_extension": ".py",
   "mimetype": "text/x-python",
   "name": "python",
   "nbconvert_exporter": "python",
   "pygments_lexer": "ipython2",
   "version": "2.7.6"
  }
 },
 "nbformat": 4,
 "nbformat_minor": 0
}
