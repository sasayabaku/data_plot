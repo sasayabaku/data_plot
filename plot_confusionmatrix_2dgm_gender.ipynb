{
 "cells": [
  {
   "cell_type": "code",
   "execution_count": 1,
   "metadata": {
    "collapsed": true
   },
   "outputs": [
    {
     "name": "stderr",
     "output_type": "stream",
     "text": [
      "Using TensorFlow backend.\n"
     ]
    }
   ],
   "source": [
    "import keras"
   ]
  },
  {
   "cell_type": "code",
   "execution_count": 7,
   "metadata": {},
   "outputs": [],
   "source": [
    "import sklearn\n",
    "from keras.models import model_from_json"
   ]
  },
  {
   "cell_type": "code",
   "execution_count": 8,
   "metadata": {},
   "outputs": [],
   "source": [
    "import os"
   ]
  },
  {
   "cell_type": "code",
   "execution_count": 23,
   "metadata": {},
   "outputs": [],
   "source": [
    "directory = \"/Volumes/matlab_share/nifti_img/3DEGIR_SAG/merged\"\n",
    "SLICE_NUM = 185"
   ]
  },
  {
   "cell_type": "code",
   "execution_count": 9,
   "metadata": {},
   "outputs": [],
   "source": [
    "json_string = open(os.path.join('/Users/sasayabaku/working/checkResult/10160855', 'result', '10160213', 'model.json')).read()"
   ]
  },
  {
   "cell_type": "code",
   "execution_count": 10,
   "metadata": {},
   "outputs": [],
   "source": [
    "model = model_from_json(json_string)"
   ]
  },
  {
   "cell_type": "code",
   "execution_count": 12,
   "metadata": {},
   "outputs": [],
   "source": [
    "model.load_weights(os.path.join('/Users/sasayabaku/working/checkResult/10160855', 'result', '10160213', 'weights.hdf5'))"
   ]
  },
  {
   "cell_type": "code",
   "execution_count": 13,
   "metadata": {},
   "outputs": [],
   "source": [
    "list_dir = \"/Volumes/matlab_share/csv/\""
   ]
  },
  {
   "cell_type": "code",
   "execution_count": 33,
   "metadata": {},
   "outputs": [],
   "source": [
    "import pandas as pd\n",
    "import nilearn.image as nilimg\n",
    "import sys\n",
    "import numpy as np\n",
    "from keras.utils import np_utils"
   ]
  },
  {
   "cell_type": "code",
   "execution_count": 27,
   "metadata": {},
   "outputs": [],
   "source": [
    "patients_list = pd.read_csv(os.path.join(list_dir, 'patient_list.csv'),\n",
    "                                   header=None,\n",
    "                                   index_col=None, names=['dir', 'pid', 'page', 'psex'],\n",
    "                                   dtype={'pid': 'object'})"
   ]
  },
  {
   "cell_type": "code",
   "execution_count": 28,
   "metadata": {},
   "outputs": [],
   "source": [
    "        properties_list = pd.read_csv(os.path.join(list_dir, 'property.csv'),\n",
    "                                    header=0,\n",
    "                                    index_col=None,\n",
    "                                    dtype={'0002': 'object'})"
   ]
  },
  {
   "cell_type": "code",
   "execution_count": 29,
   "metadata": {},
   "outputs": [],
   "source": [
    "def encode_label(y):\n",
    "    processed = y - 1\n",
    "    processed = np_utils.to_categorical(processed, num_classes=2)\n",
    "    return processed"
   ]
  },
  {
   "cell_type": "code",
   "execution_count": 67,
   "metadata": {},
   "outputs": [],
   "source": [
    "predict_list = np.empty((0, 2)).astype(np.float32)"
   ]
  },
  {
   "cell_type": "code",
   "execution_count": 63,
   "metadata": {},
   "outputs": [],
   "source": [
    "for pd_index, pd_data in patients_list.iterrows():\n",
    "\n",
    "    patient = pd_data.dir\n",
    "\n",
    "    try:\n",
    "        nifti_files = os.listdir(os.path.join(directory, patient))\n",
    "    except FileNotFoundError:\n",
    "        continue\n",
    "\n",
    "    raw_file = [file for file in nifti_files if file.startswith('c12018') & file.endswith('.nii')][0]\n",
    "    personal_nifti = nilimg.smooth_img(os.path.join(directory, patient, raw_file), fwhm='fast')\n",
    "    personal_img = personal_nifti.get_data()\n",
    "    reshape_img = np.reshape(personal_img, (1, personal_img.shape[0], personal_img.shape[1], personal_img.shape[2]))\n",
    "    if reshape_img.shape[3] < SLICE_NUM:\n",
    "        train_img = np.append(reshape_img, np.zeros((1, reshape_img.shape[1], reshape_img.shape[2], SLICE_NUM - reshape_img.shape[3])), axis=3)\n",
    "    elif reshape_img.shape[3] == SLICE_NUM:\n",
    "        train_img = reshape_img\n",
    "    else:\n",
    "        sys.stderr.write('Data Size Error: This Nifti file size is ' + str(reshape_img.shape))\n",
    "        sys.exit()\n",
    "\n",
    "    pid = patients_list[patients_list.dir == str(patient)].pid.values[0]\n",
    "\n",
    "    try:\n",
    "        personal_sex = properties_list[properties_list['0002'] == pid]['0007'].values[0]\n",
    "    except IndexError:\n",
    "        continue\n",
    "    train_label = encode_label(personal_sex)\n",
    "\n",
    "    predict_sex = model.predict_classes(train_img)\n",
    "    data = np.array([[int(train_label[0]), int(predict_sex[0])]])\n",
    "    predict_list = np.append(predict_list, data, axis=0)"
   ]
  },
  {
   "cell_type": "code",
   "execution_count": 48,
   "metadata": {},
   "outputs": [
    {
     "data": {
      "text/plain": [
       "array([[287,  14],\n       [ 16, 386]])"
      ]
     },
     "execution_count": 48,
     "metadata": {},
     "output_type": "execute_result"
    }
   ],
   "source": [
    "from sklearn.metrics import confusion_matrix\n",
    "confusion_matrix(predict_list[:,0], predict_list[:,1].round(0))"
   ]
  },
  {
   "cell_type": "code",
   "execution_count": 65,
   "metadata": {},
   "outputs": [
    {
     "data": {
      "text/plain": [
       "(1765, 2)"
      ]
     },
     "execution_count": 65,
     "metadata": {},
     "output_type": "execute_result"
    }
   ],
   "source": [
    "predict_list.shape"
   ]
  },
  {
   "cell_type": "code",
   "execution_count": null,
   "metadata": {},
   "outputs": [],
   "source": []
  }
 ],
 "metadata": {
  "kernelspec": {
   "display_name": "Python 2",
   "language": "python",
   "name": "python2"
  },
  "language_info": {
   "codemirror_mode": {
    "name": "ipython",
    "version": 2
   },
   "file_extension": ".py",
   "mimetype": "text/x-python",
   "name": "python",
   "nbconvert_exporter": "python",
   "pygments_lexer": "ipython2",
   "version": "2.7.6"
  }
 },
 "nbformat": 4,
 "nbformat_minor": 0
}
