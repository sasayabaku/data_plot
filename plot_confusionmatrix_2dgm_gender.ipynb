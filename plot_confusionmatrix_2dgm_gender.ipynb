{
 "cells": [
  {
   "cell_type": "code",
   "execution_count": 2,
   "metadata": {
    "collapsed": true
   },
   "outputs": [],
   "source": [
    "import keras\n",
    "from keras.models import model_from_json\n",
    "from keras.utils import np_utils\n",
    "\n",
    "from sklearn.metrics import confusion_matrix\n",
    "import pandas as pd\n",
    "import numpy as np\n",
    "import nilearn.image as nilimg\n",
    "\n",
    "import os\n",
    "import sys\n",
    "\n",
    "from plotly.offline import iplot, init_notebook_mode, plot\n",
    "import plotly.graph_objs as go\n",
    "import plotly.figure_factory as ff"
   ]
  },
  {
   "cell_type": "code",
   "execution_count": 3,
   "metadata": {},
   "outputs": [],
   "source": [
    "directory = \"/Volumes/matlab_share/nifti_img/3DEGIR_SAG/merged\"\n",
    "model_dir = \"/Volumes/share/log/learning/gender_gm/result/10202229\"\n",
    "csv_dir = '/Volumes/matlab_share/csv'\n",
    "SLICE_NUM = 185"
   ]
  },
  {
   "cell_type": "code",
   "execution_count": 9,
   "metadata": {},
   "outputs": [],
   "source": [
    "def encode_label(y):\n",
    "    processed = y - 1\n",
    "    processed = np_utils.to_categorical(processed, num_classes=2)\n",
    "    return processed"
   ]
  },
  {
   "cell_type": "code",
   "execution_count": 4,
   "metadata": {},
   "outputs": [],
   "source": [
    "json_string = open(os.path.join(model_dir, 'model.json')).read()"
   ]
  },
  {
   "cell_type": "code",
   "execution_count": 5,
   "metadata": {},
   "outputs": [],
   "source": [
    "model = model_from_json(json_string)"
   ]
  },
  {
   "cell_type": "code",
   "execution_count": 6,
   "metadata": {},
   "outputs": [],
   "source": [
    "model.load_weights(os.path.join(model_dir, 'weights.hdf5'))"
   ]
  },
  {
   "cell_type": "code",
   "execution_count": 7,
   "metadata": {},
   "outputs": [],
   "source": [
    "patients_list = pd.read_csv(os.path.join(csv_dir, 'patient_list.csv'),\n",
    "                                   header=None,\n",
    "                                   index_col=None, names=['dir', 'pid', 'page', 'psex'],\n",
    "                                   dtype={'pid': 'object'})"
   ]
  },
  {
   "cell_type": "code",
   "execution_count": 8,
   "metadata": {},
   "outputs": [],
   "source": [
    "properties_list = pd.read_csv(os.path.join(csv_dir, 'property.csv'),\n",
    "                            header=0,\n",
    "                            index_col=None,\n",
    "                            dtype={'0002': 'object'})"
   ]
  },
  {
   "cell_type": "code",
   "execution_count": 10,
   "metadata": {},
   "outputs": [],
   "source": [
    "predict_list = np.empty((0, 2)).astype(np.float32)\n",
    "\n",
    "for pd_index, pd_data in patients_list.iterrows():\n",
    "\n",
    "    patient = pd_data.dir\n",
    "\n",
    "    try:\n",
    "        nifti_files = os.listdir(os.path.join(directory, patient))\n",
    "    except FileNotFoundError:\n",
    "        continue\n",
    "\n",
    "    raw_file = [file for file in nifti_files if file.startswith('c12018') & file.endswith('.nii')][0]\n",
    "    personal_nifti = nilimg.smooth_img(os.path.join(directory, patient, raw_file), fwhm='fast')\n",
    "    personal_img = personal_nifti.get_data()\n",
    "    reshape_img = np.reshape(personal_img, (1, personal_img.shape[0], personal_img.shape[1], personal_img.shape[2]))\n",
    "    if reshape_img.shape[3] < SLICE_NUM:\n",
    "        train_img = np.append(reshape_img, np.zeros((1, reshape_img.shape[1], reshape_img.shape[2], SLICE_NUM - reshape_img.shape[3])), axis=3)\n",
    "    elif reshape_img.shape[3] == SLICE_NUM:\n",
    "        train_img = reshape_img\n",
    "    else:\n",
    "        sys.stderr.write('Data Size Error: This Nifti file size is ' + str(reshape_img.shape))\n",
    "        sys.exit()\n",
    "\n",
    "    pid = patients_list[patients_list.dir == str(patient)].pid.values[0]\n",
    "\n",
    "    try:\n",
    "        personal_sex = properties_list[properties_list['0002'] == pid]['0007'].values[0]\n",
    "    except IndexError:\n",
    "        continue\n",
    "    train_label = encode_label(personal_sex)\n",
    "\n",
    "    predict_sex = model.predict_classes(train_img)\n",
    "    data = np.array([[int(personal_sex - 1), int(predict_sex[0])]])\n",
    "    predict_list = np.append(predict_list, data, axis=0)"
   ]
  },
  {
   "cell_type": "markdown",
   "metadata": {},
   "source": [
    "X: 正解ラベル Y:予測ラベル"
   ]
  },
  {
   "cell_type": "code",
   "execution_count": 16,
   "metadata": {},
   "outputs": [],
   "source": [
    "cm = confusion_matrix(predict_list[:,0], predict_list[:,1].round(0))"
   ]
  },
  {
   "cell_type": "code",
   "execution_count": 18,
   "metadata": {},
   "outputs": [
    {
     "data": {
      "text/plain": [
       "'file:///Users/yoshilab/PycharmProjects/data_plot/svg/plot_confusionmatrix_2dgm_gender6.html'"
      ]
     },
     "execution_count": 18,
     "metadata": {},
     "output_type": "execute_result"
    }
   ],
   "source": [
    "trace = ff.create_annotated_heatmap(z=cm,\n",
    "                   x=['Men', 'Women'],\n",
    "                   y=['Men', 'Women'],\n",
    "                   colorscale=[[0.0, '#f2f2f2'], [1.0, '#05b29c']],\n",
    "                    showscale=True\n",
    "                   )\n",
    "\n",
    "for i in range(len(trace.layout.annotations)):\n",
    "    trace.layout.annotations[i].font.size = 25\n",
    "\n",
    "trace.layout.font.size = 18\n",
    "\n",
    "trace.layout.xaxis.title = 'Predicted Labels'\n",
    "\n",
    "plot(trace, filename=\"html/plot_confusionmatrix_2dgm_gender6.html\", auto_open=False)\n",
    "plot(trace, filename=\"svg/plot_confusionmatrix_2dgm_gender6.html\", image_height=750, image_width=1200, image='svg', auto_open=False)"
   ]
  },
  {
   "cell_type": "markdown",
   "metadata": {},
   "source": [
    "`plot_confusionmatrix_2dgm_gender`の各値を合算したConfusion Matrix  \n",
    "変数名 : 正解ラベル 予測ラベル"
   ]
  },
  {
   "cell_type": "code",
   "execution_count": 19,
   "metadata": {},
   "outputs": [],
   "source": [
    "MW = [4, 3, 5, 5, 4]\n",
    "MM = [192, 194, 196, 188, 187]\n",
    "WW = [146, 147, 145, 145, 146]\n",
    "WM = [8, 6, 4, 12, 13]\n",
    "cm_label = ['Men', 'Women']"
   ]
  },
  {
   "cell_type": "code",
   "execution_count": 20,
   "metadata": {},
   "outputs": [],
   "source": [
    "total_cm =[[sum(MM), sum(MW)],\n",
    "           [sum(WM), sum(WW)]]"
   ]
  },
  {
   "cell_type": "code",
   "execution_count": 133,
   "metadata": {},
   "outputs": [
    {
     "data": {
      "text/plain": [
       "'file:///Users/yoshilab/PycharmProjects/data_plot/svg/plot_total_confusionmatrix_2dgm_gender.html'"
      ]
     },
     "execution_count": 133,
     "metadata": {},
     "output_type": "execute_result"
    }
   ],
   "source": [
    "trace2 = ff.create_annotated_heatmap(z=total_cm,\n",
    "                                     x=cm_label,\n",
    "                                     y=cm_label,\n",
    "                                     colorscale=[[0.0, '#f2f2f2'], [1.0, '#05b29c']],\n",
    "                                     showscale=True\n",
    "                                     )\n",
    "trace2.layout.font.size = 18\n",
    "\n",
    "for i in range(len(trace.layout.annotations)):\n",
    "    trace2.layout.annotations[i].font.size = 25\n",
    "    \n",
    "trace2.layout.xaxis.title = 'Predicted Labels'\n",
    "\n",
    "plot(trace2, filename=\"html/plot_total_confusionmatrix_2dgm_gender.html\", auto_open=False)\n",
    "plot(trace2, filename=\"svg/plot_total_confusionmatrix_2dgm_gender.html\", image_height=750, image_width=1200, image='svg', auto_open=False)"
   ]
  },
  {
   "cell_type": "code",
   "execution_count": null,
   "metadata": {},
   "outputs": [],
   "source": []
  }
 ],
 "metadata": {
  "kernelspec": {
   "display_name": "Python 2",
   "language": "python",
   "name": "python2"
  },
  "language_info": {
   "codemirror_mode": {
    "name": "ipython",
    "version": 2
   },
   "file_extension": ".py",
   "mimetype": "text/x-python",
   "name": "python",
   "nbconvert_exporter": "python",
   "pygments_lexer": "ipython2",
   "version": "2.7.6"
  }
 },
 "nbformat": 4,
 "nbformat_minor": 0
}
